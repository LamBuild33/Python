{
 "cells": [
  {
   "cell_type": "markdown",
   "metadata": {},
   "source": [
    "# PyCity Schools Analysis\n",
    "\n",
    "* As a whole, schools with higher budgets, did not yield better test results. By contrast, schools with higher spending per student actually (\\\\$645 - 675) underperformed compared to schools with smaller budgets (\\\\$585 per student).\n",
    "\n",
    "* As a whole, smaller and medium sized schools dramatically out-performed large sized schools on passing math performances (89-91% passing vs 67%).\n",
    "\n",
    "* As a whole, charter schools out-performed the public district schools across all metrics. However, more analysis will be required to glean if the effect is due to school practices or the fact that charter schools tend to serve smaller student populations per school. \n",
    "---"
   ]
  },
  {
   "cell_type": "markdown",
   "metadata": {},
   "source": [
    "**Note:**\n",
    "Instructions have been included for each segment. You do not have to follow them exactly, but they are included to help you think through the steps."
   ]
  },
  {
   "cell_type": "code",
   "execution_count": 168,
   "metadata": {
    "ExecuteTime": {
     "end_time": "2025-03-18T01:53:09.928696Z",
     "start_time": "2025-03-18T01:53:09.903345Z"
    }
   },
   "outputs": [
    {
     "name": "stdout",
     "output_type": "stream",
     "text": [
      "C:\\Users\\patron\\Desktop\\Python\n"
     ]
    }
   ],
   "source": [
    "# Dependencies and Setup\n",
    "import pandas as pd\n",
    "import numpy as np\n",
    "import sqlite3\n",
    "import os\n",
    "\n",
    "current_directory = os.getcwd()\n",
    "print(current_directory)\n",
    "\n",
    "# loading data from python.db database\n",
    "con = sqlite3.connect('python.db')\n",
    "\n",
    "# import 'school' and 'student' tables into pandas dataframe\n",
    "school_data = pd.read_sql('SELECT * FROM school', con)\n",
    "student_data = pd.read_sql('SELECT * FROM student', con)"
   ]
  },
  {
   "cell_type": "code",
   "execution_count": 169,
   "metadata": {},
   "outputs": [
    {
     "data": {
      "text/html": [
       "<div>\n",
       "<style scoped>\n",
       "    .dataframe tbody tr th:only-of-type {\n",
       "        vertical-align: middle;\n",
       "    }\n",
       "\n",
       "    .dataframe tbody tr th {\n",
       "        vertical-align: top;\n",
       "    }\n",
       "\n",
       "    .dataframe thead th {\n",
       "        text-align: right;\n",
       "    }\n",
       "</style>\n",
       "<table border=\"1\" class=\"dataframe\">\n",
       "  <thead>\n",
       "    <tr style=\"text-align: right;\">\n",
       "      <th></th>\n",
       "      <th>id_x</th>\n",
       "      <th>Student ID</th>\n",
       "      <th>student_name</th>\n",
       "      <th>gender</th>\n",
       "      <th>grade</th>\n",
       "      <th>school_name</th>\n",
       "      <th>reading_score</th>\n",
       "      <th>math_score</th>\n",
       "      <th>id_y</th>\n",
       "      <th>School ID</th>\n",
       "      <th>type</th>\n",
       "      <th>size</th>\n",
       "      <th>budget</th>\n",
       "    </tr>\n",
       "  </thead>\n",
       "  <tbody>\n",
       "    <tr>\n",
       "      <th>0</th>\n",
       "      <td>0</td>\n",
       "      <td>0</td>\n",
       "      <td>Paul Bradley</td>\n",
       "      <td>M</td>\n",
       "      <td>9th</td>\n",
       "      <td>Huang High School</td>\n",
       "      <td>66</td>\n",
       "      <td>79</td>\n",
       "      <td>0</td>\n",
       "      <td>0</td>\n",
       "      <td>District</td>\n",
       "      <td>2917</td>\n",
       "      <td>1910635</td>\n",
       "    </tr>\n",
       "    <tr>\n",
       "      <th>1</th>\n",
       "      <td>1</td>\n",
       "      <td>1</td>\n",
       "      <td>Victor Smith</td>\n",
       "      <td>M</td>\n",
       "      <td>12th</td>\n",
       "      <td>Huang High School</td>\n",
       "      <td>94</td>\n",
       "      <td>61</td>\n",
       "      <td>0</td>\n",
       "      <td>0</td>\n",
       "      <td>District</td>\n",
       "      <td>2917</td>\n",
       "      <td>1910635</td>\n",
       "    </tr>\n",
       "    <tr>\n",
       "      <th>2</th>\n",
       "      <td>2</td>\n",
       "      <td>2</td>\n",
       "      <td>Kevin Rodriguez</td>\n",
       "      <td>M</td>\n",
       "      <td>12th</td>\n",
       "      <td>Huang High School</td>\n",
       "      <td>90</td>\n",
       "      <td>60</td>\n",
       "      <td>0</td>\n",
       "      <td>0</td>\n",
       "      <td>District</td>\n",
       "      <td>2917</td>\n",
       "      <td>1910635</td>\n",
       "    </tr>\n",
       "    <tr>\n",
       "      <th>3</th>\n",
       "      <td>3</td>\n",
       "      <td>3</td>\n",
       "      <td>Dr. Richard Scott</td>\n",
       "      <td>M</td>\n",
       "      <td>12th</td>\n",
       "      <td>Huang High School</td>\n",
       "      <td>67</td>\n",
       "      <td>58</td>\n",
       "      <td>0</td>\n",
       "      <td>0</td>\n",
       "      <td>District</td>\n",
       "      <td>2917</td>\n",
       "      <td>1910635</td>\n",
       "    </tr>\n",
       "    <tr>\n",
       "      <th>4</th>\n",
       "      <td>4</td>\n",
       "      <td>4</td>\n",
       "      <td>Bonnie Ray</td>\n",
       "      <td>F</td>\n",
       "      <td>9th</td>\n",
       "      <td>Huang High School</td>\n",
       "      <td>97</td>\n",
       "      <td>84</td>\n",
       "      <td>0</td>\n",
       "      <td>0</td>\n",
       "      <td>District</td>\n",
       "      <td>2917</td>\n",
       "      <td>1910635</td>\n",
       "    </tr>\n",
       "  </tbody>\n",
       "</table>\n",
       "</div>"
      ],
      "text/plain": [
       "   id_x  Student ID       student_name gender grade        school_name  \\\n",
       "0     0           0       Paul Bradley      M   9th  Huang High School   \n",
       "1     1           1       Victor Smith      M  12th  Huang High School   \n",
       "2     2           2    Kevin Rodriguez      M  12th  Huang High School   \n",
       "3     3           3  Dr. Richard Scott      M  12th  Huang High School   \n",
       "4     4           4         Bonnie Ray      F   9th  Huang High School   \n",
       "\n",
       "   reading_score  math_score  id_y  School ID      type  size   budget  \n",
       "0             66          79     0          0  District  2917  1910635  \n",
       "1             94          61     0          0  District  2917  1910635  \n",
       "2             90          60     0          0  District  2917  1910635  \n",
       "3             67          58     0          0  District  2917  1910635  \n",
       "4             97          84     0          0  District  2917  1910635  "
      ]
     },
     "execution_count": 169,
     "metadata": {},
     "output_type": "execute_result"
    }
   ],
   "source": [
    "# join the two tables into a single dataframe\n",
    "school_data_complete = pd.merge(student_data, school_data, how=\"left\", on=[\"school_name\", \"school_name\"])\n",
    "school_data_complete.head()"
   ]
  },
  {
   "cell_type": "markdown",
   "metadata": {},
   "source": [
    "## District Summary\n",
    "\n",
    "* Calculate the total number of schools\n",
    "\n",
    "* Calculate the total number of students\n",
    "\n",
    "* Calculate the total budget\n",
    "\n",
    "* Calculate the average math score \n",
    "\n",
    "* Calculate the average reading score\n",
    "\n",
    "* Calculate the overall passing rate (overall average score), i.e. (avg. math score + avg. reading score)/2\n",
    "\n",
    "* Calculate the percentage of students with a passing math score (70 or greater)\n",
    "\n",
    "* Calculate the percentage of students with a passing reading score (70 or greater)\n",
    "\n",
    "* Create a dataframe to hold the above results\n",
    "\n",
    "* Optional: give the displayed data cleaner formatting"
   ]
  },
  {
   "cell_type": "code",
   "execution_count": 173,
   "metadata": {},
   "outputs": [
    {
     "data": {
      "text/html": [
       "<div>\n",
       "<style scoped>\n",
       "    .dataframe tbody tr th:only-of-type {\n",
       "        vertical-align: middle;\n",
       "    }\n",
       "\n",
       "    .dataframe tbody tr th {\n",
       "        vertical-align: top;\n",
       "    }\n",
       "\n",
       "    .dataframe thead th {\n",
       "        text-align: right;\n",
       "    }\n",
       "</style>\n",
       "<table border=\"1\" class=\"dataframe\">\n",
       "  <thead>\n",
       "    <tr style=\"text-align: right;\">\n",
       "      <th></th>\n",
       "      <th>Total Schools</th>\n",
       "      <th>Total Students</th>\n",
       "      <th>Total Budget</th>\n",
       "      <th>Average Math Score</th>\n",
       "      <th>Average Reading Score</th>\n",
       "      <th>Overall Average Score</th>\n",
       "      <th>Passing Math (%)</th>\n",
       "      <th>Passing Reading (%)</th>\n",
       "    </tr>\n",
       "  </thead>\n",
       "  <tbody>\n",
       "    <tr>\n",
       "      <th>0</th>\n",
       "      <td>7</td>\n",
       "      <td>26976</td>\n",
       "      <td>$17,347,923.00</td>\n",
       "      <td>76.99</td>\n",
       "      <td>80.96</td>\n",
       "      <td>78.97</td>\n",
       "      <td>66.52%</td>\n",
       "      <td>80.91%</td>\n",
       "    </tr>\n",
       "  </tbody>\n",
       "</table>\n",
       "</div>"
      ],
      "text/plain": [
       "   Total Schools  Total Students    Total Budget  Average Math Score  \\\n",
       "0              7           26976  $17,347,923.00               76.99   \n",
       "\n",
       "   Average Reading Score  Overall Average Score Passing Math (%)  \\\n",
       "0                  80.96                  78.97           66.52%   \n",
       "\n",
       "  Passing Reading (%)  \n",
       "0              80.91%  "
      ]
     },
     "execution_count": 173,
     "metadata": {},
     "output_type": "execute_result"
    }
   ],
   "source": [
    "# Create a District Summary\n",
    "\n",
    "district_schools = school_data_complete[school_data_complete['type'] == 'District']\n",
    "district_schools.head(10)\n",
    "\n",
    "# Create Summary Datafram for District \n",
    "district_summary = pd.DataFrame({\n",
    "    \"Total Schools\": [total_district_schools],\n",
    "    \"Total Students\": [total_district_students],\n",
    "    \"Total Budget\": [f\"${total_district_budget:,.2f}\"],\n",
    "    \"Average Math Score\": [round(average_math_score, 2)],\n",
    "    \"Average Reading Score\": [round(average_reading_score, 2)],\n",
    "    \"Overall Average Score\": [round(overall_average_score, 2)],\n",
    "    \"Passing Math (%)\": [f\"{passing_math_percentage:.2f}%\"],\n",
    "    \"Passing Reading (%)\": [f\"{passing_reading_percentage:.2f}%\"]\n",
    "})\n",
    "\n",
    "district_summary"
   ]
  },
  {
   "cell_type": "code",
   "execution_count": 174,
   "metadata": {},
   "outputs": [
    {
     "name": "stdout",
     "output_type": "stream",
     "text": [
      "Total number of district schools: 7\n"
     ]
    }
   ],
   "source": [
    "# Total number of schools\n",
    "\n",
    "total_district_schools = district_schools['school_name'].nunique()\n",
    "print(\"Total number of district schools:\", total_district_schools)\n",
    "\n"
   ]
  },
  {
   "cell_type": "code",
   "execution_count": 177,
   "metadata": {},
   "outputs": [
    {
     "name": "stdout",
     "output_type": "stream",
     "text": [
      "Total number of students in district schools: 26976\n"
     ]
    }
   ],
   "source": [
    "# Total number of students\n",
    "\n",
    "total_district_students = district_schools.shape[0]\n",
    "print(\"Total number of students in district schools:\", total_district_students)\n",
    "\n",
    "\n"
   ]
  },
  {
   "cell_type": "code",
   "execution_count": 178,
   "metadata": {},
   "outputs": [
    {
     "name": "stdout",
     "output_type": "stream",
     "text": [
      "Total budget for the 7 district schools: $17,347,923.00\n"
     ]
    }
   ],
   "source": [
    "# Total budget\n",
    "\n",
    "# Get unique district schools\n",
    "unique_district_schools = district_schools[['school_name', 'budget']].drop_duplicates()\n",
    "\n",
    "# Calculate total budget\n",
    "total_district_budget = unique_district_schools['budget'].sum()\n",
    "formatted_budget = f\"${total_district_budget:,.2f}\"\n",
    "print(\"Total budget for the 7 district schools:\", formatted_budget)\n",
    "\n",
    "\n",
    "\n"
   ]
  },
  {
   "cell_type": "code",
   "execution_count": 181,
   "metadata": {},
   "outputs": [
    {
     "name": "stdout",
     "output_type": "stream",
     "text": [
      "Average math score for students in district schools: 76.99\n"
     ]
    }
   ],
   "source": [
    "# Average math score\n",
    "\n",
    "average_math_score = district_schools['math_score'].mean()\n",
    "print(f\"Average math score for students in district schools: {average_math_score:.2f}\")\n",
    "\n"
   ]
  },
  {
   "cell_type": "code",
   "execution_count": 182,
   "metadata": {},
   "outputs": [
    {
     "name": "stdout",
     "output_type": "stream",
     "text": [
      "Average reading score for students in district schools: 80.96\n"
     ]
    }
   ],
   "source": [
    "# Average reading score\n",
    "\n",
    "average_reading_score = district_schools['reading_score'].mean()\n",
    "print(f\"Average reading score for students in district schools: {average_reading_score:.2f}\")\n",
    "\n"
   ]
  },
  {
   "cell_type": "code",
   "execution_count": 185,
   "metadata": {},
   "outputs": [
    {
     "name": "stdout",
     "output_type": "stream",
     "text": [
      "Overall average score (reading & math) for students in district schools: 78.97\n"
     ]
    }
   ],
   "source": [
    "# Overall average score\n",
    "\n",
    "overall_average_score = (average_reading_score + average_math_score) / 2\n",
    "print(f\"Overall average score (reading & math) for students in district schools: {overall_average_score:.2f}\")\n"
   ]
  },
  {
   "cell_type": "code",
   "execution_count": 187,
   "metadata": {},
   "outputs": [
    {
     "name": "stdout",
     "output_type": "stream",
     "text": [
      "Percentage of students passing math in the district: 66.52%\n",
      "Percentage of students passing reading: 80.91%\n"
     ]
    }
   ],
   "source": [
    "# Percentage of passing math (70 or greater)\n",
    "\n",
    "# Count students with math_score >= 70\n",
    "passing_math = district_schools[district_schools['math_score'] >= 70].shape[0]\n",
    "passing_math_percentage = (passing_math / total_district_students) * 100\n",
    "print(f\"Percentage of students passing math in the district: {passing_math_percentage:.2f}%\")\n",
    "\n",
    "\n",
    "# Percentage of passing reading (70 or greater)\n",
    "\n",
    "# Count students with reading_score >= 70\n",
    "passing_reading = district_schools[district_schools['reading_score'] >= 70].shape[0]\n",
    "passing_reading_percentage = (passing_reading / total_district_students) * 100\n",
    "print(f\"Percentage of students passing reading: {passing_reading_percentage:.2f}%\")\n",
    "\n"
   ]
  },
  {
   "cell_type": "markdown",
   "metadata": {},
   "source": [
    "## School Summary"
   ]
  },
  {
   "cell_type": "markdown",
   "metadata": {},
   "source": [
    "* Create an overview table that summarizes key metrics about each school, including:\n",
    "  * School Name\n",
    "  * School Type\n",
    "  * Total Students\n",
    "  * Total School Budget\n",
    "  * Per Student Budget\n",
    "  * Average Math Score\n",
    "  * Average Reading Score\n",
    "  * % Passing Math\n",
    "  * % Passing Reading\n",
    "  * Overall Passing Rate (Average of the above two)\n",
    "  \n",
    "* Create a dataframe to hold the above results"
   ]
  },
  {
   "cell_type": "markdown",
   "metadata": {},
   "source": [
    "### Top Performing Schools (By Passing Rate)"
   ]
  },
  {
   "cell_type": "markdown",
   "metadata": {},
   "source": [
    "* Sort and display the top five schools in overall passing rate"
   ]
  },
  {
   "cell_type": "code",
   "execution_count": 193,
   "metadata": {},
   "outputs": [
    {
     "name": "stdout",
     "output_type": "stream",
     "text": [
      "            School Name  Overall Passing Rate (%)\n",
      "1   Cabrera High School                 95.586652\n",
      "12   Thomas High School                 95.290520\n",
      "9      Pena High School                 95.270270\n",
      "4   Griffin High School                 95.265668\n",
      "13   Wilson High School                 95.203679\n"
     ]
    }
   ],
   "source": [
    "#  Sort and display the top five schools in overall passing rate\n",
    "\n",
    "# Sort schools by overall passing rate in descending order\n",
    "top_5_schools = overall_pass_rate.sort_values(by='Overall Passing Rate (%)', ascending=False).head(5)\n",
    "\n",
    "# Display the result\n",
    "print(top_5_schools)\n",
    "\n"
   ]
  },
  {
   "cell_type": "code",
   "execution_count": 195,
   "metadata": {
    "scrolled": true
   },
   "outputs": [
    {
     "name": "stdout",
     "output_type": "stream",
     "text": [
      "              School Name  Total School Budget\n",
      "0      Bailey High School              3124928\n",
      "1     Cabrera High School              1081356\n",
      "2    Figueroa High School              1884411\n",
      "3        Ford High School              1763916\n",
      "4     Griffin High School               917500\n",
      "5   Hernandez High School              3022020\n",
      "6      Holden High School               248087\n",
      "7       Huang High School              1910635\n",
      "8     Johnson High School              3094650\n",
      "9        Pena High School               585858\n",
      "10  Rodriguez High School              2547363\n",
      "11    Shelton High School              1056600\n",
      "12     Thomas High School              1043130\n",
      "13     Wilson High School              1319574\n",
      "14     Wright High School              1049400\n"
     ]
    }
   ],
   "source": [
    "# Calculate total school budget\n",
    "\n",
    "# Group by school and get total school budget\n",
    "school_budget = school_data.groupby('school_name')['budget'].sum().reset_index()\n",
    "\n",
    "# Rename columns for clarity\n",
    "school_budget.columns = ['School Name', 'Total School Budget']\n",
    "\n",
    "# Display the result\n",
    "print(school_budget)\n",
    "\n"
   ]
  },
  {
   "cell_type": "code",
   "execution_count": 197,
   "metadata": {},
   "outputs": [
    {
     "name": "stdout",
     "output_type": "stream",
     "text": [
      "              School Name  Total Students\n",
      "0      Bailey High School            4976\n",
      "1     Cabrera High School            1858\n",
      "2    Figueroa High School            2949\n",
      "3        Ford High School            2739\n",
      "4     Griffin High School            1468\n",
      "5   Hernandez High School            4635\n",
      "6      Holden High School             427\n",
      "7       Huang High School            2917\n",
      "8     Johnson High School            4761\n",
      "9        Pena High School             962\n",
      "10  Rodriguez High School            3999\n",
      "11    Shelton High School            1761\n",
      "12     Thomas High School            1635\n",
      "13     Wilson High School            2283\n",
      "14     Wright High School            1800\n",
      "              School Name  Total School Budget  Total Students  \\\n",
      "0      Bailey High School              3124928            4976   \n",
      "1     Cabrera High School              1081356            1858   \n",
      "2    Figueroa High School              1884411            2949   \n",
      "3        Ford High School              1763916            2739   \n",
      "4     Griffin High School               917500            1468   \n",
      "5   Hernandez High School              3022020            4635   \n",
      "6      Holden High School               248087             427   \n",
      "7       Huang High School              1910635            2917   \n",
      "8     Johnson High School              3094650            4761   \n",
      "9        Pena High School               585858             962   \n",
      "10  Rodriguez High School              2547363            3999   \n",
      "11    Shelton High School              1056600            1761   \n",
      "12     Thomas High School              1043130            1635   \n",
      "13     Wilson High School              1319574            2283   \n",
      "14     Wright High School              1049400            1800   \n",
      "\n",
      "    Per Student Budget  \n",
      "0                628.0  \n",
      "1                582.0  \n",
      "2                639.0  \n",
      "3                644.0  \n",
      "4                625.0  \n",
      "5                652.0  \n",
      "6                581.0  \n",
      "7                655.0  \n",
      "8                650.0  \n",
      "9                609.0  \n",
      "10               637.0  \n",
      "11               600.0  \n",
      "12               638.0  \n",
      "13               578.0  \n",
      "14               583.0  \n"
     ]
    }
   ],
   "source": [
    "# Calculate per student budget\n",
    "\n",
    "# Count number of students per school\n",
    "total_students_per_school = school_data_complete.groupby('school_name')['student_name'].count().reset_index()\n",
    "\n",
    "# Rename columns for clarity\n",
    "total_students_per_school.columns = ['School Name', 'Total Students']\n",
    "\n",
    "# Display the result\n",
    "print(total_students_per_school)\n",
    "\n",
    "# Merge total students and school budget on School Name\n",
    "school_budget_per_student = pd.merge(school_budget, total_students_per_school, on='School Name')\n",
    "\n",
    "# Calculate per student budget\n",
    "school_budget_per_student['Per Student Budget'] = (\n",
    "    school_budget_per_student['Total School Budget'] / school_budget_per_student['Total Students']\n",
    ")\n",
    "\n",
    "# Reorder columns for clarity\n",
    "school_budget_per_student = school_budget_per_student[\n",
    "    ['School Name', 'Total School Budget', 'Total Students', 'Per Student Budget']\n",
    "]\n",
    "\n",
    "# Display the result\n",
    "print(school_budget_per_student)\n",
    "\n",
    "\n"
   ]
  },
  {
   "cell_type": "code",
   "execution_count": 199,
   "metadata": {},
   "outputs": [
    {
     "name": "stdout",
     "output_type": "stream",
     "text": [
      "              School Name  Average Math Score\n",
      "0      Bailey High School           77.048432\n",
      "1     Cabrera High School           83.061895\n",
      "2    Figueroa High School           76.711767\n",
      "3        Ford High School           77.102592\n",
      "4     Griffin High School           83.351499\n",
      "5   Hernandez High School           77.289752\n",
      "6      Holden High School           83.803279\n",
      "7       Huang High School           76.629414\n",
      "8     Johnson High School           77.072464\n",
      "9        Pena High School           83.839917\n",
      "10  Rodriguez High School           76.842711\n",
      "11    Shelton High School           83.359455\n",
      "12     Thomas High School           83.418349\n",
      "13     Wilson High School           83.274201\n",
      "14     Wright High School           83.682222\n",
      "              School Name  Average Reading Score\n",
      "0      Bailey High School              81.033963\n",
      "1     Cabrera High School              83.975780\n",
      "2    Figueroa High School              81.158020\n",
      "3        Ford High School              80.746258\n",
      "4     Griffin High School              83.816757\n",
      "5   Hernandez High School              80.934412\n",
      "6      Holden High School              83.814988\n",
      "7       Huang High School              81.182722\n",
      "8     Johnson High School              80.966394\n",
      "9        Pena High School              84.044699\n",
      "10  Rodriguez High School              80.744686\n",
      "11    Shelton High School              83.725724\n",
      "12     Thomas High School              83.848930\n",
      "13     Wilson High School              83.989488\n",
      "14     Wright High School              83.955000\n"
     ]
    }
   ],
   "source": [
    "# Cacluate the avg math and reading score\n",
    "\n",
    "# Calculate average math score for each school\n",
    "average_math_scores_by_school = school_data_complete.groupby('school_name')['math_score'].mean().reset_index()\n",
    "\n",
    "# Rename columns for clarity\n",
    "average_math_scores_by_school.columns = ['School Name', 'Average Math Score']\n",
    "\n",
    "# Display the result\n",
    "print(average_math_scores_by_school)\n",
    "\n",
    "# Calculate average reading score for each school\n",
    "average_reading_scores_by_school = school_data_complete.groupby('school_name')['reading_score'].mean().reset_index()\n",
    "\n",
    "# Rename columns for clarity\n",
    "average_reading_scores_by_school.columns = ['School Name', 'Average Reading Score']\n",
    "\n",
    "# Display the result\n",
    "print(average_reading_scores_by_school)\n",
    "\n",
    "\n"
   ]
  },
  {
   "cell_type": "markdown",
   "metadata": {},
   "source": [
    "#### Find the passing rate for math and reading (above 70 points)"
   ]
  },
  {
   "cell_type": "code",
   "execution_count": 202,
   "metadata": {},
   "outputs": [
    {
     "name": "stdout",
     "output_type": "stream",
     "text": [
      "              School Name  Total Math Results\n",
      "0      Bailey High School                4976\n",
      "1     Cabrera High School                1858\n",
      "2    Figueroa High School                2949\n",
      "3        Ford High School                2739\n",
      "4     Griffin High School                1468\n",
      "5   Hernandez High School                4635\n",
      "6      Holden High School                 427\n",
      "7       Huang High School                2917\n",
      "8     Johnson High School                4761\n",
      "9        Pena High School                 962\n",
      "10  Rodriguez High School                3999\n",
      "11    Shelton High School                1761\n",
      "12     Thomas High School                1635\n",
      "13     Wilson High School                2283\n",
      "14     Wright High School                1800\n",
      "              School Name  Passing Math Count\n",
      "0      Bailey High School                3318\n",
      "1     Cabrera High School                1749\n",
      "2    Figueroa High School                1946\n",
      "3        Ford High School                1871\n",
      "4     Griffin High School                1371\n",
      "5   Hernandez High School                3094\n",
      "6      Holden High School                 395\n",
      "7       Huang High School                1916\n",
      "8     Johnson High School                3145\n",
      "9        Pena High School                 910\n",
      "10  Rodriguez High School                2654\n",
      "11    Shelton High School                1653\n",
      "12     Thomas High School                1525\n",
      "13     Wilson High School                2143\n",
      "14     Wright High School                1680\n",
      "              School Name  Passing Math Count  Total Math Results  \\\n",
      "0      Bailey High School                3318                4976   \n",
      "1     Cabrera High School                1749                1858   \n",
      "2    Figueroa High School                1946                2949   \n",
      "3        Ford High School                1871                2739   \n",
      "4     Griffin High School                1371                1468   \n",
      "5   Hernandez High School                3094                4635   \n",
      "6      Holden High School                 395                 427   \n",
      "7       Huang High School                1916                2917   \n",
      "8     Johnson High School                3145                4761   \n",
      "9        Pena High School                 910                 962   \n",
      "10  Rodriguez High School                2654                3999   \n",
      "11    Shelton High School                1653                1761   \n",
      "12     Thomas High School                1525                1635   \n",
      "13     Wilson High School                2143                2283   \n",
      "14     Wright High School                1680                1800   \n",
      "\n",
      "    Math Passing Rate (%)  \n",
      "0               66.680064  \n",
      "1               94.133477  \n",
      "2               65.988471  \n",
      "3               68.309602  \n",
      "4               93.392371  \n",
      "5               66.752967  \n",
      "6               92.505855  \n",
      "7               65.683922  \n",
      "8               66.057551  \n",
      "9               94.594595  \n",
      "10              66.366592  \n",
      "11              93.867121  \n",
      "12              93.272171  \n",
      "13              93.867718  \n",
      "14              93.333333  \n"
     ]
    }
   ],
   "source": [
    "# Find the total counts of math result\n",
    "\n",
    "# Count of student math scores per school\n",
    "math_result_counts = school_data_complete.groupby('school_name')['math_score'].count().reset_index()\n",
    "\n",
    "# Rename columns for clarity\n",
    "math_result_counts.columns = ['School Name', 'Total Math Results']\n",
    "\n",
    "# Display the result\n",
    "print(math_result_counts)\n",
    "\n",
    "\n",
    "# Find the counts for math result in each school that pass 70 or higher\n",
    "\n",
    "# Filter for passing math scores (70 or higher)\n",
    "passing_math = school_data_complete[school_data_complete['math_score'] >= 70]\n",
    "\n",
    "# Count passing students per school\n",
    "passing_math_counts = passing_math.groupby('school_name')['math_score'].count().reset_index()\n",
    "\n",
    "# Rename columns for clarity\n",
    "passing_math_counts.columns = ['School Name', 'Passing Math Count']\n",
    "\n",
    "# Display the result\n",
    "print(passing_math_counts)\n",
    "\n",
    "\n",
    "# Calculate the math passing rate\n",
    "\n",
    "# Merge passing and total counts on school name\n",
    "math_pass_rate = pd.merge(passing_math_counts, math_result_counts, on='School Name')\n",
    "\n",
    "# Calculate passing rate\n",
    "math_pass_rate['Math Passing Rate (%)'] = (math_pass_rate['Passing Math Count'] / math_pass_rate['Total Math Results']) * 100\n",
    "\n",
    "# Reorder columns to show School Name first\n",
    "math_pass_rate = math_pass_rate[['School Name', 'Passing Math Count', 'Total Math Results', 'Math Passing Rate (%)']]\n",
    "\n",
    "# Display the result\n",
    "print(math_pass_rate)\n",
    "\n",
    "\n",
    "\n"
   ]
  },
  {
   "cell_type": "code",
   "execution_count": 204,
   "metadata": {},
   "outputs": [
    {
     "name": "stdout",
     "output_type": "stream",
     "text": [
      "              School Name  Total Reading Results\n",
      "0      Bailey High School                   4976\n",
      "1     Cabrera High School                   1858\n",
      "2    Figueroa High School                   2949\n",
      "3        Ford High School                   2739\n",
      "4     Griffin High School                   1468\n",
      "5   Hernandez High School                   4635\n",
      "6      Holden High School                    427\n",
      "7       Huang High School                   2917\n",
      "8     Johnson High School                   4761\n",
      "9        Pena High School                    962\n",
      "10  Rodriguez High School                   3999\n",
      "11    Shelton High School                   1761\n",
      "12     Thomas High School                   1635\n",
      "13     Wilson High School                   2283\n",
      "14     Wright High School                   1800\n",
      "              School Name  Passing Reading Count\n",
      "0      Bailey High School                   4077\n",
      "1     Cabrera High School                   1803\n",
      "2    Figueroa High School                   2381\n",
      "3        Ford High School                   2172\n",
      "4     Griffin High School                   1426\n",
      "5   Hernandez High School                   3748\n",
      "6      Holden High School                    411\n",
      "7       Huang High School                   2372\n",
      "8     Johnson High School                   3867\n",
      "9        Pena High School                    923\n",
      "10  Rodriguez High School                   3208\n",
      "11    Shelton High School                   1688\n",
      "12     Thomas High School                   1591\n",
      "13     Wilson High School                   2204\n",
      "14     Wright High School                   1739\n",
      "              School Name  Passing Reading Count  Total Reading Results  \\\n",
      "0      Bailey High School                   4077                   4976   \n",
      "1     Cabrera High School                   1803                   1858   \n",
      "2    Figueroa High School                   2381                   2949   \n",
      "3        Ford High School                   2172                   2739   \n",
      "4     Griffin High School                   1426                   1468   \n",
      "5   Hernandez High School                   3748                   4635   \n",
      "6      Holden High School                    411                    427   \n",
      "7       Huang High School                   2372                   2917   \n",
      "8     Johnson High School                   3867                   4761   \n",
      "9        Pena High School                    923                    962   \n",
      "10  Rodriguez High School                   3208                   3999   \n",
      "11    Shelton High School                   1688                   1761   \n",
      "12     Thomas High School                   1591                   1635   \n",
      "13     Wilson High School                   2204                   2283   \n",
      "14     Wright High School                   1739                   1800   \n",
      "\n",
      "    Reading Passing Rate (%)  \n",
      "0                  81.933280  \n",
      "1                  97.039828  \n",
      "2                  80.739234  \n",
      "3                  79.299014  \n",
      "4                  97.138965  \n",
      "5                  80.862999  \n",
      "6                  96.252927  \n",
      "7                  81.316421  \n",
      "8                  81.222432  \n",
      "9                  95.945946  \n",
      "10                 80.220055  \n",
      "11                 95.854628  \n",
      "12                 97.308869  \n",
      "13                 96.539641  \n",
      "14                 96.611111  \n"
     ]
    }
   ],
   "source": [
    "# Find the total counts of read result\n",
    "\n",
    "# Count of student reading scores per school\n",
    "reading_result_counts = school_data_complete.groupby('school_name')['reading_score'].count().reset_index()\n",
    "\n",
    "# Rename columns for clarity\n",
    "reading_result_counts.columns = ['School Name', 'Total Reading Results']\n",
    "\n",
    "# Display the result\n",
    "print(reading_result_counts)\n",
    "\n",
    "\n",
    "# Find the counts for read result in each school that pass 70 or higher\n",
    "\n",
    "# Filter for passing reading scores (70 or higher)\n",
    "passing_reading = school_data_complete[school_data_complete['reading_score'] >= 70]\n",
    "\n",
    "# Count passing students per school\n",
    "passing_reading_counts = passing_reading.groupby('school_name')['reading_score'].count().reset_index()\n",
    "\n",
    "# Rename columns for clarity\n",
    "passing_reading_counts.columns = ['School Name', 'Passing Reading Count']\n",
    "\n",
    "# Display the result\n",
    "print(passing_reading_counts)\n",
    "\n",
    "\n",
    "# Calculate the read passing rate\n",
    "\n",
    "# Merge total reading results with passing reading counts\n",
    "reading_pass_rate = pd.merge(passing_reading_counts, reading_result_counts, on='School Name')\n",
    "\n",
    "# Calculate reading passing rate\n",
    "reading_pass_rate['Reading Passing Rate (%)'] = (\n",
    "    reading_pass_rate['Passing Reading Count'] / reading_pass_rate['Total Reading Results']\n",
    ") * 100\n",
    "\n",
    "# Reorder columns for clarity\n",
    "reading_pass_rate = reading_pass_rate[\n",
    "    ['School Name', 'Passing Reading Count', 'Total Reading Results', 'Reading Passing Rate (%)']\n",
    "]\n",
    "\n",
    "# Display the result\n",
    "print(reading_pass_rate)\n"
   ]
  },
  {
   "cell_type": "code",
   "execution_count": 206,
   "metadata": {},
   "outputs": [
    {
     "name": "stdout",
     "output_type": "stream",
     "text": [
      "              School Name  Overall Passing Rate (%)\n",
      "0      Bailey High School                 74.306672\n",
      "1     Cabrera High School                 95.586652\n",
      "2    Figueroa High School                 73.363852\n",
      "3        Ford High School                 73.804308\n",
      "4     Griffin High School                 95.265668\n",
      "5   Hernandez High School                 73.807983\n",
      "6      Holden High School                 94.379391\n",
      "7       Huang High School                 73.500171\n",
      "8     Johnson High School                 73.639992\n",
      "9        Pena High School                 95.270270\n",
      "10  Rodriguez High School                 73.293323\n",
      "11    Shelton High School                 94.860875\n",
      "12     Thomas High School                 95.290520\n",
      "13     Wilson High School                 95.203679\n",
      "14     Wright High School                 94.972222\n"
     ]
    }
   ],
   "source": [
    "# Calculate the overall passing rate (average of the math and reading passing rate)\n",
    "\n",
    "# Merge math and reading passing rates on School Name\n",
    "overall_pass_rate = pd.merge(math_pass_rate, reading_pass_rate, on='School Name')\n",
    "\n",
    "# Calculate overall passing rate\n",
    "overall_pass_rate['Overall Passing Rate (%)'] = (\n",
    "    (overall_pass_rate['Math Passing Rate (%)'] + overall_pass_rate['Reading Passing Rate (%)']) / 2\n",
    ")\n",
    "\n",
    "# Keep only relevant columns for clarity\n",
    "overall_pass_rate = overall_pass_rate[[\n",
    "    'School Name',\n",
    "    'Overall Passing Rate (%)'\n",
    "]]\n",
    "\n",
    "# Display the result\n",
    "print(overall_pass_rate)\n",
    "\n"
   ]
  },
  {
   "cell_type": "code",
   "execution_count": 208,
   "metadata": {},
   "outputs": [
    {
     "name": "stdout",
     "output_type": "stream",
     "text": [
      "              School Name School Type  Total Students  Total School Budget  \\\n",
      "0      Bailey High School    District            4976              3124928   \n",
      "1     Cabrera High School     Charter            1858              1081356   \n",
      "2    Figueroa High School    District            2949              1884411   \n",
      "3        Ford High School    District            2739              1763916   \n",
      "4     Griffin High School     Charter            1468               917500   \n",
      "5   Hernandez High School    District            4635              3022020   \n",
      "6      Holden High School     Charter             427               248087   \n",
      "7       Huang High School    District            2917              1910635   \n",
      "8     Johnson High School    District            4761              3094650   \n",
      "9        Pena High School     Charter             962               585858   \n",
      "10  Rodriguez High School    District            3999              2547363   \n",
      "11    Shelton High School     Charter            1761              1056600   \n",
      "12     Thomas High School     Charter            1635              1043130   \n",
      "13     Wilson High School     Charter            2283              1319574   \n",
      "14     Wright High School     Charter            1800              1049400   \n",
      "\n",
      "    Per Student Budget  Average Math Score  Average Reading Score  \\\n",
      "0                628.0           77.048432              81.033963   \n",
      "1                582.0           83.061895              83.975780   \n",
      "2                639.0           76.711767              81.158020   \n",
      "3                644.0           77.102592              80.746258   \n",
      "4                625.0           83.351499              83.816757   \n",
      "5                652.0           77.289752              80.934412   \n",
      "6                581.0           83.803279              83.814988   \n",
      "7                655.0           76.629414              81.182722   \n",
      "8                650.0           77.072464              80.966394   \n",
      "9                609.0           83.839917              84.044699   \n",
      "10               637.0           76.842711              80.744686   \n",
      "11               600.0           83.359455              83.725724   \n",
      "12               638.0           83.418349              83.848930   \n",
      "13               578.0           83.274201              83.989488   \n",
      "14               583.0           83.682222              83.955000   \n",
      "\n",
      "    Math Passing Rate (%)  Reading Passing Rate (%)  Overall Passing Rate (%)  \n",
      "0               66.680064                 81.933280                 74.306672  \n",
      "1               94.133477                 97.039828                 95.586652  \n",
      "2               65.988471                 80.739234                 73.363852  \n",
      "3               68.309602                 79.299014                 73.804308  \n",
      "4               93.392371                 97.138965                 95.265668  \n",
      "5               66.752967                 80.862999                 73.807983  \n",
      "6               92.505855                 96.252927                 94.379391  \n",
      "7               65.683922                 81.316421                 73.500171  \n",
      "8               66.057551                 81.222432                 73.639992  \n",
      "9               94.594595                 95.945946                 95.270270  \n",
      "10              66.366592                 80.220055                 73.293323  \n",
      "11              93.867121                 95.854628                 94.860875  \n",
      "12              93.272171                 97.308869                 95.290520  \n",
      "13              93.867718                 96.539641                 95.203679  \n",
      "14              93.333333                 96.611111                 94.972222  \n"
     ]
    }
   ],
   "source": [
    "# Merge all relevant dataframes on School Name\n",
    "overview = school_budget.merge(\n",
    "    total_students_per_school, on='School Name'\n",
    ").merge(\n",
    "    school_budget_per_student[['School Name', 'Per Student Budget']], on='School Name'\n",
    ").merge(\n",
    "    average_math_scores_by_school, on='School Name'\n",
    ").merge(\n",
    "    average_reading_scores_by_school, on='School Name'\n",
    ").merge(\n",
    "    math_pass_rate[['School Name', 'Math Passing Rate (%)']], on='School Name'\n",
    ").merge(\n",
    "    reading_pass_rate[['School Name', 'Reading Passing Rate (%)']], on='School Name'\n",
    ").merge(\n",
    "    overall_pass_rate[['School Name', 'Overall Passing Rate (%)']], on='School Name'\n",
    ").merge(\n",
    "    school_data[['school_name', 'type']].drop_duplicates(), left_on='School Name', right_on='school_name'\n",
    ")\n",
    "\n",
    "# Rename and reorder columns\n",
    "overview.rename(columns={\n",
    "    'type': 'School Type'\n",
    "}, inplace=True)\n",
    "\n",
    "overview = overview[[\n",
    "    'School Name', 'School Type', 'Total Students', 'Total School Budget', 'Per Student Budget',\n",
    "    'Average Math Score', 'Average Reading Score',\n",
    "    'Math Passing Rate (%)', 'Reading Passing Rate (%)', 'Overall Passing Rate (%)'\n",
    "]]\n",
    "\n",
    "# Display the final overview dataframe\n",
    "print(overview)"
   ]
  },
  {
   "cell_type": "code",
   "execution_count": null,
   "metadata": {},
   "outputs": [],
   "source": []
  },
  {
   "cell_type": "code",
   "execution_count": null,
   "metadata": {},
   "outputs": [],
   "source": []
  },
  {
   "cell_type": "markdown",
   "metadata": {},
   "source": [
    "### Bottom Performing Schools (By Passing Rate)"
   ]
  },
  {
   "cell_type": "markdown",
   "metadata": {},
   "source": [
    "* Sort and display the five worst-performing schools"
   ]
  },
  {
   "cell_type": "code",
   "execution_count": 214,
   "metadata": {},
   "outputs": [
    {
     "name": "stdout",
     "output_type": "stream",
     "text": [
      "              School Name  Overall Passing Rate (%)\n",
      "10  Rodriguez High School                 73.293323\n",
      "2    Figueroa High School                 73.363852\n",
      "7       Huang High School                 73.500171\n",
      "8     Johnson High School                 73.639992\n",
      "3        Ford High School                 73.804308\n"
     ]
    }
   ],
   "source": [
    "#  Sort and display the worst five schools in overall passing rate\n",
    "\n",
    "# Sort schools by overall passing rate in ascending order using overall_pass_rate\n",
    "worst_schools = overall_pass_rate.sort_values(by='Overall Passing Rate (%)', ascending=True).head(5)\n",
    "\n",
    "# Display the result\n",
    "print(worst_schools)\n",
    "\n"
   ]
  },
  {
   "cell_type": "markdown",
   "metadata": {
    "collapsed": true,
    "jupyter": {
     "outputs_hidden": true
    }
   },
   "source": [
    "## Math Scores by Grade"
   ]
  },
  {
   "cell_type": "markdown",
   "metadata": {},
   "source": [
    "* Create a table that lists the average Reading Score for students of each grade level (9th, 10th, 11th, 12th) at each school.\n",
    "\n",
    "  * Create a pandas series for each grade. Hint: use a conditional statement.\n",
    "  \n",
    "  * Group each series by school\n",
    "  \n",
    "  * Combine the series into a dataframe\n",
    "  \n",
    "  * Optional: give the displayed data cleaner formatting"
   ]
  },
  {
   "cell_type": "code",
   "execution_count": 233,
   "metadata": {},
   "outputs": [
    {
     "data": {
      "text/html": [
       "<div>\n",
       "<style scoped>\n",
       "    .dataframe tbody tr th:only-of-type {\n",
       "        vertical-align: middle;\n",
       "    }\n",
       "\n",
       "    .dataframe tbody tr th {\n",
       "        vertical-align: top;\n",
       "    }\n",
       "\n",
       "    .dataframe thead th {\n",
       "        text-align: right;\n",
       "    }\n",
       "</style>\n",
       "<table border=\"1\" class=\"dataframe\">\n",
       "  <thead>\n",
       "    <tr style=\"text-align: right;\">\n",
       "      <th></th>\n",
       "      <th>9th Grade</th>\n",
       "      <th>10th Grade</th>\n",
       "      <th>11th Grade</th>\n",
       "      <th>12th Grade</th>\n",
       "    </tr>\n",
       "    <tr>\n",
       "      <th>school_name</th>\n",
       "      <th></th>\n",
       "      <th></th>\n",
       "      <th></th>\n",
       "      <th></th>\n",
       "    </tr>\n",
       "  </thead>\n",
       "  <tbody>\n",
       "  </tbody>\n",
       "</table>\n",
       "</div>"
      ],
      "text/plain": [
       "Empty DataFrame\n",
       "Columns: [9th Grade, 10th Grade, 11th Grade, 12th Grade]\n",
       "Index: []"
      ]
     },
     "execution_count": 233,
     "metadata": {},
     "output_type": "execute_result"
    }
   ],
   "source": [
    "# Create table that lists the average math score for each school of each grade level.\n",
    "\n",
    "# Combine into one DataFrame\n",
    "avg_math_by_grade = pd.DataFrame({\n",
    "    '9th Grade': avg_math_9,\n",
    "    '10th Grade': avg_math_10,\n",
    "    '11th Grade': avg_math_11,\n",
    "    '12th Grade': avg_math_12\n",
    "})\n",
    "\n",
    "# Display result\n",
    "avg_math_by_grade\n"
   ]
  },
  {
   "cell_type": "code",
   "execution_count": 235,
   "metadata": {},
   "outputs": [],
   "source": [
    "# Calculate the average math score for 9th grade in each school\n",
    "\n",
    "grade_9 = school_data_complete[school_data_complete['grade'] == '9th']\n",
    "avg_math_9 = grade_9.groupby('school_name')['math_score'].mean()\n"
   ]
  },
  {
   "cell_type": "code",
   "execution_count": 237,
   "metadata": {},
   "outputs": [],
   "source": [
    "# Calculate the average math score for 10th grade in each school\n",
    "\n",
    "grade_10 = school_data_complete[school_data_complete['grade'] == '10th']\n",
    "avg_math_10 = grade_10.groupby('school_name')['math_score'].mean()\n"
   ]
  },
  {
   "cell_type": "code",
   "execution_count": 239,
   "metadata": {},
   "outputs": [],
   "source": [
    "# Calculate the average math score for 11th grade in each school\n",
    "\n",
    "grade_11 = school_data_complete[school_data_complete['grade'] == '11th']\n",
    "avg_math_11 = grade_11.groupby('school_name')['math_score'].mean()\n"
   ]
  },
  {
   "cell_type": "code",
   "execution_count": 243,
   "metadata": {},
   "outputs": [
    {
     "data": {
      "text/html": [
       "<div>\n",
       "<style scoped>\n",
       "    .dataframe tbody tr th:only-of-type {\n",
       "        vertical-align: middle;\n",
       "    }\n",
       "\n",
       "    .dataframe tbody tr th {\n",
       "        vertical-align: top;\n",
       "    }\n",
       "\n",
       "    .dataframe thead th {\n",
       "        text-align: right;\n",
       "    }\n",
       "</style>\n",
       "<table border=\"1\" class=\"dataframe\">\n",
       "  <thead>\n",
       "    <tr style=\"text-align: right;\">\n",
       "      <th></th>\n",
       "      <th>9th Grade</th>\n",
       "      <th>10th Grade</th>\n",
       "      <th>11th Grade</th>\n",
       "      <th>12th Grade</th>\n",
       "    </tr>\n",
       "    <tr>\n",
       "      <th>school_name</th>\n",
       "      <th></th>\n",
       "      <th></th>\n",
       "      <th></th>\n",
       "      <th></th>\n",
       "    </tr>\n",
       "  </thead>\n",
       "  <tbody>\n",
       "    <tr>\n",
       "      <th>Bailey High School</th>\n",
       "      <td>77.083676</td>\n",
       "      <td>76.996772</td>\n",
       "      <td>77.515588</td>\n",
       "      <td>76.492218</td>\n",
       "    </tr>\n",
       "    <tr>\n",
       "      <th>Cabrera High School</th>\n",
       "      <td>83.094697</td>\n",
       "      <td>83.154506</td>\n",
       "      <td>82.765560</td>\n",
       "      <td>83.277487</td>\n",
       "    </tr>\n",
       "    <tr>\n",
       "      <th>Figueroa High School</th>\n",
       "      <td>76.403037</td>\n",
       "      <td>76.539974</td>\n",
       "      <td>76.884344</td>\n",
       "      <td>77.151369</td>\n",
       "    </tr>\n",
       "    <tr>\n",
       "      <th>Ford High School</th>\n",
       "      <td>77.361345</td>\n",
       "      <td>77.672316</td>\n",
       "      <td>76.918058</td>\n",
       "      <td>76.179963</td>\n",
       "    </tr>\n",
       "    <tr>\n",
       "      <th>Griffin High School</th>\n",
       "      <td>82.044010</td>\n",
       "      <td>84.229064</td>\n",
       "      <td>83.842105</td>\n",
       "      <td>83.356164</td>\n",
       "    </tr>\n",
       "    <tr>\n",
       "      <th>Hernandez High School</th>\n",
       "      <td>77.438495</td>\n",
       "      <td>77.337408</td>\n",
       "      <td>77.136029</td>\n",
       "      <td>77.186567</td>\n",
       "    </tr>\n",
       "    <tr>\n",
       "      <th>Holden High School</th>\n",
       "      <td>83.787402</td>\n",
       "      <td>83.429825</td>\n",
       "      <td>85.000000</td>\n",
       "      <td>82.855422</td>\n",
       "    </tr>\n",
       "    <tr>\n",
       "      <th>Huang High School</th>\n",
       "      <td>77.027251</td>\n",
       "      <td>75.908735</td>\n",
       "      <td>76.446602</td>\n",
       "      <td>77.225641</td>\n",
       "    </tr>\n",
       "    <tr>\n",
       "      <th>Johnson High School</th>\n",
       "      <td>77.187857</td>\n",
       "      <td>76.691117</td>\n",
       "      <td>77.491653</td>\n",
       "      <td>76.863248</td>\n",
       "    </tr>\n",
       "    <tr>\n",
       "      <th>Pena High School</th>\n",
       "      <td>83.625455</td>\n",
       "      <td>83.372000</td>\n",
       "      <td>84.328125</td>\n",
       "      <td>84.121547</td>\n",
       "    </tr>\n",
       "    <tr>\n",
       "      <th>Rodriguez High School</th>\n",
       "      <td>76.859966</td>\n",
       "      <td>76.612500</td>\n",
       "      <td>76.395626</td>\n",
       "      <td>77.690748</td>\n",
       "    </tr>\n",
       "    <tr>\n",
       "      <th>Shelton High School</th>\n",
       "      <td>83.420755</td>\n",
       "      <td>82.917411</td>\n",
       "      <td>83.383495</td>\n",
       "      <td>83.778976</td>\n",
       "    </tr>\n",
       "    <tr>\n",
       "      <th>Thomas High School</th>\n",
       "      <td>83.590022</td>\n",
       "      <td>83.087886</td>\n",
       "      <td>83.498795</td>\n",
       "      <td>83.497041</td>\n",
       "    </tr>\n",
       "    <tr>\n",
       "      <th>Wilson High School</th>\n",
       "      <td>83.085578</td>\n",
       "      <td>83.724422</td>\n",
       "      <td>83.195326</td>\n",
       "      <td>83.035794</td>\n",
       "    </tr>\n",
       "    <tr>\n",
       "      <th>Wright High School</th>\n",
       "      <td>83.264706</td>\n",
       "      <td>84.010288</td>\n",
       "      <td>83.836782</td>\n",
       "      <td>83.644986</td>\n",
       "    </tr>\n",
       "  </tbody>\n",
       "</table>\n",
       "</div>"
      ],
      "text/plain": [
       "                       9th Grade  10th Grade  11th Grade  12th Grade\n",
       "school_name                                                         \n",
       "Bailey High School     77.083676   76.996772   77.515588   76.492218\n",
       "Cabrera High School    83.094697   83.154506   82.765560   83.277487\n",
       "Figueroa High School   76.403037   76.539974   76.884344   77.151369\n",
       "Ford High School       77.361345   77.672316   76.918058   76.179963\n",
       "Griffin High School    82.044010   84.229064   83.842105   83.356164\n",
       "Hernandez High School  77.438495   77.337408   77.136029   77.186567\n",
       "Holden High School     83.787402   83.429825   85.000000   82.855422\n",
       "Huang High School      77.027251   75.908735   76.446602   77.225641\n",
       "Johnson High School    77.187857   76.691117   77.491653   76.863248\n",
       "Pena High School       83.625455   83.372000   84.328125   84.121547\n",
       "Rodriguez High School  76.859966   76.612500   76.395626   77.690748\n",
       "Shelton High School    83.420755   82.917411   83.383495   83.778976\n",
       "Thomas High School     83.590022   83.087886   83.498795   83.497041\n",
       "Wilson High School     83.085578   83.724422   83.195326   83.035794\n",
       "Wright High School     83.264706   84.010288   83.836782   83.644986"
      ]
     },
     "execution_count": 243,
     "metadata": {},
     "output_type": "execute_result"
    }
   ],
   "source": [
    "# Calculate the average math score for 12th grade in each school\n",
    "\n",
    "grade_12 = school_data_complete[school_data_complete['grade'] == '12th']\n",
    "avg_math_12 = grade_12.groupby('school_name')['math_score'].mean()\n",
    "\n",
    "# Combine into one DataFrame\n",
    "avg_math_by_grade = pd.DataFrame({\n",
    "    '9th Grade': avg_math_9,\n",
    "    '10th Grade': avg_math_10,\n",
    "    '11th Grade': avg_math_11,\n",
    "    '12th Grade': avg_math_12\n",
    "})\n",
    "\n",
    "# Display result\n",
    "avg_math_by_grade"
   ]
  },
  {
   "cell_type": "markdown",
   "metadata": {},
   "source": [
    "### Reading Score by Grade "
   ]
  },
  {
   "cell_type": "markdown",
   "metadata": {},
   "source": [
    "* Perform the same operations as above for reading scores"
   ]
  },
  {
   "cell_type": "code",
   "execution_count": 259,
   "metadata": {},
   "outputs": [
    {
     "data": {
      "text/html": [
       "<div>\n",
       "<style scoped>\n",
       "    .dataframe tbody tr th:only-of-type {\n",
       "        vertical-align: middle;\n",
       "    }\n",
       "\n",
       "    .dataframe tbody tr th {\n",
       "        vertical-align: top;\n",
       "    }\n",
       "\n",
       "    .dataframe thead th {\n",
       "        text-align: right;\n",
       "    }\n",
       "</style>\n",
       "<table border=\"1\" class=\"dataframe\">\n",
       "  <thead>\n",
       "    <tr style=\"text-align: right;\">\n",
       "      <th></th>\n",
       "      <th>9th Grade</th>\n",
       "      <th>10th Grade</th>\n",
       "      <th>11th Grade</th>\n",
       "      <th>12th Grade</th>\n",
       "    </tr>\n",
       "    <tr>\n",
       "      <th>school_name</th>\n",
       "      <th></th>\n",
       "      <th></th>\n",
       "      <th></th>\n",
       "      <th></th>\n",
       "    </tr>\n",
       "  </thead>\n",
       "  <tbody>\n",
       "    <tr>\n",
       "      <th>Bailey High School</th>\n",
       "      <td>81.303155</td>\n",
       "      <td>80.907183</td>\n",
       "      <td>80.945643</td>\n",
       "      <td>80.912451</td>\n",
       "    </tr>\n",
       "    <tr>\n",
       "      <th>Cabrera High School</th>\n",
       "      <td>83.676136</td>\n",
       "      <td>84.253219</td>\n",
       "      <td>83.788382</td>\n",
       "      <td>84.287958</td>\n",
       "    </tr>\n",
       "    <tr>\n",
       "      <th>Figueroa High School</th>\n",
       "      <td>81.198598</td>\n",
       "      <td>81.408912</td>\n",
       "      <td>80.640339</td>\n",
       "      <td>81.384863</td>\n",
       "    </tr>\n",
       "    <tr>\n",
       "      <th>Ford High School</th>\n",
       "      <td>80.632653</td>\n",
       "      <td>81.262712</td>\n",
       "      <td>80.403642</td>\n",
       "      <td>80.662338</td>\n",
       "    </tr>\n",
       "    <tr>\n",
       "      <th>Griffin High School</th>\n",
       "      <td>83.369193</td>\n",
       "      <td>83.706897</td>\n",
       "      <td>84.288089</td>\n",
       "      <td>84.013699</td>\n",
       "    </tr>\n",
       "    <tr>\n",
       "      <th>Hernandez High School</th>\n",
       "      <td>80.866860</td>\n",
       "      <td>80.660147</td>\n",
       "      <td>81.396140</td>\n",
       "      <td>80.857143</td>\n",
       "    </tr>\n",
       "    <tr>\n",
       "      <th>Holden High School</th>\n",
       "      <td>83.677165</td>\n",
       "      <td>83.324561</td>\n",
       "      <td>83.815534</td>\n",
       "      <td>84.698795</td>\n",
       "    </tr>\n",
       "    <tr>\n",
       "      <th>Huang High School</th>\n",
       "      <td>81.290284</td>\n",
       "      <td>81.512386</td>\n",
       "      <td>81.417476</td>\n",
       "      <td>80.305983</td>\n",
       "    </tr>\n",
       "    <tr>\n",
       "      <th>Johnson High School</th>\n",
       "      <td>81.260714</td>\n",
       "      <td>80.773431</td>\n",
       "      <td>80.616027</td>\n",
       "      <td>81.227564</td>\n",
       "    </tr>\n",
       "    <tr>\n",
       "      <th>Pena High School</th>\n",
       "      <td>83.807273</td>\n",
       "      <td>83.612000</td>\n",
       "      <td>84.335938</td>\n",
       "      <td>84.591160</td>\n",
       "    </tr>\n",
       "    <tr>\n",
       "      <th>Rodriguez High School</th>\n",
       "      <td>80.993127</td>\n",
       "      <td>80.629808</td>\n",
       "      <td>80.864811</td>\n",
       "      <td>80.376426</td>\n",
       "    </tr>\n",
       "    <tr>\n",
       "      <th>Shelton High School</th>\n",
       "      <td>84.122642</td>\n",
       "      <td>83.441964</td>\n",
       "      <td>84.373786</td>\n",
       "      <td>82.781671</td>\n",
       "    </tr>\n",
       "    <tr>\n",
       "      <th>Thomas High School</th>\n",
       "      <td>83.728850</td>\n",
       "      <td>84.254157</td>\n",
       "      <td>83.585542</td>\n",
       "      <td>83.831361</td>\n",
       "    </tr>\n",
       "    <tr>\n",
       "      <th>Wilson High School</th>\n",
       "      <td>83.939778</td>\n",
       "      <td>84.021452</td>\n",
       "      <td>83.764608</td>\n",
       "      <td>84.317673</td>\n",
       "    </tr>\n",
       "    <tr>\n",
       "      <th>Wright High School</th>\n",
       "      <td>83.833333</td>\n",
       "      <td>83.812757</td>\n",
       "      <td>84.156322</td>\n",
       "      <td>84.073171</td>\n",
       "    </tr>\n",
       "  </tbody>\n",
       "</table>\n",
       "</div>"
      ],
      "text/plain": [
       "                       9th Grade  10th Grade  11th Grade  12th Grade\n",
       "school_name                                                         \n",
       "Bailey High School     81.303155   80.907183   80.945643   80.912451\n",
       "Cabrera High School    83.676136   84.253219   83.788382   84.287958\n",
       "Figueroa High School   81.198598   81.408912   80.640339   81.384863\n",
       "Ford High School       80.632653   81.262712   80.403642   80.662338\n",
       "Griffin High School    83.369193   83.706897   84.288089   84.013699\n",
       "Hernandez High School  80.866860   80.660147   81.396140   80.857143\n",
       "Holden High School     83.677165   83.324561   83.815534   84.698795\n",
       "Huang High School      81.290284   81.512386   81.417476   80.305983\n",
       "Johnson High School    81.260714   80.773431   80.616027   81.227564\n",
       "Pena High School       83.807273   83.612000   84.335938   84.591160\n",
       "Rodriguez High School  80.993127   80.629808   80.864811   80.376426\n",
       "Shelton High School    84.122642   83.441964   84.373786   82.781671\n",
       "Thomas High School     83.728850   84.254157   83.585542   83.831361\n",
       "Wilson High School     83.939778   84.021452   83.764608   84.317673\n",
       "Wright High School     83.833333   83.812757   84.156322   84.073171"
      ]
     },
     "execution_count": 259,
     "metadata": {},
     "output_type": "execute_result"
    }
   ],
   "source": [
    "# Create table that lists the average reading score for each school of each grade level.\n",
    "\n",
    "avg_reading_by_grade = pd.DataFrame({\n",
    "    '9th Grade': avg_reading_9,\n",
    "    '10th Grade': avg_reading_10,\n",
    "    '11th Grade': avg_reading_11,\n",
    "    '12th Grade': avg_reading_12\n",
    "})\n",
    "\n",
    "# Display result\n",
    "avg_reading_by_grade"
   ]
  },
  {
   "cell_type": "code",
   "execution_count": 261,
   "metadata": {},
   "outputs": [],
   "source": [
    "# Calculate the average reading score for 9th grade in each school\n",
    "\n",
    "# Filter by grade (strings like '9th', '10th', etc.)\n",
    "grade_9 = school_data_complete[school_data_complete['grade'] == '9th']\n",
    "avg_reading_9 = grade_9.groupby('school_name')['reading_score'].mean()\n",
    "\n",
    "grade_10 = school_data_complete[school_data_complete['grade'] == '10th']\n",
    "avg_reading_10 = grade_10.groupby('school_name')['reading_score'].mean()\n",
    "\n",
    "grade_11 = school_data_complete[school_data_complete['grade'] == '11th']\n",
    "avg_reading_11 = grade_11.groupby('school_name')['reading_score'].mean()\n",
    "\n",
    "grade_12 = school_data_complete[school_data_complete['grade'] == '12th']\n",
    "avg_reading_12 = grade_12.groupby('school_name')['reading_score'].mean()\n",
    "\n"
   ]
  },
  {
   "cell_type": "code",
   "execution_count": 263,
   "metadata": {},
   "outputs": [],
   "source": [
    "# Calculate the average reading score for 10th grade in each school\n",
    "\n",
    "grade_10 = school_data_complete[school_data_complete['grade'] == '10th']\n",
    "avg_reading_10 = grade_10.groupby('school_name')['reading_score'].mean()\n"
   ]
  },
  {
   "cell_type": "code",
   "execution_count": 265,
   "metadata": {},
   "outputs": [],
   "source": [
    "# Calculate the average reading score for 11th grade in each school\n",
    "\n",
    "grade_11 = school_data_complete[school_data_complete['grade'] == '11th']\n",
    "avg_reading_11 = grade_11.groupby('school_name')['reading_score'].mean()\n"
   ]
  },
  {
   "cell_type": "code",
   "execution_count": 267,
   "metadata": {},
   "outputs": [
    {
     "data": {
      "text/html": [
       "<div>\n",
       "<style scoped>\n",
       "    .dataframe tbody tr th:only-of-type {\n",
       "        vertical-align: middle;\n",
       "    }\n",
       "\n",
       "    .dataframe tbody tr th {\n",
       "        vertical-align: top;\n",
       "    }\n",
       "\n",
       "    .dataframe thead th {\n",
       "        text-align: right;\n",
       "    }\n",
       "</style>\n",
       "<table border=\"1\" class=\"dataframe\">\n",
       "  <thead>\n",
       "    <tr style=\"text-align: right;\">\n",
       "      <th></th>\n",
       "      <th>9th Grade</th>\n",
       "      <th>10th Grade</th>\n",
       "      <th>11th Grade</th>\n",
       "      <th>12th Grade</th>\n",
       "    </tr>\n",
       "    <tr>\n",
       "      <th>school_name</th>\n",
       "      <th></th>\n",
       "      <th></th>\n",
       "      <th></th>\n",
       "      <th></th>\n",
       "    </tr>\n",
       "  </thead>\n",
       "  <tbody>\n",
       "    <tr>\n",
       "      <th>Bailey High School</th>\n",
       "      <td>81.303155</td>\n",
       "      <td>80.907183</td>\n",
       "      <td>80.945643</td>\n",
       "      <td>80.912451</td>\n",
       "    </tr>\n",
       "    <tr>\n",
       "      <th>Cabrera High School</th>\n",
       "      <td>83.676136</td>\n",
       "      <td>84.253219</td>\n",
       "      <td>83.788382</td>\n",
       "      <td>84.287958</td>\n",
       "    </tr>\n",
       "    <tr>\n",
       "      <th>Figueroa High School</th>\n",
       "      <td>81.198598</td>\n",
       "      <td>81.408912</td>\n",
       "      <td>80.640339</td>\n",
       "      <td>81.384863</td>\n",
       "    </tr>\n",
       "    <tr>\n",
       "      <th>Ford High School</th>\n",
       "      <td>80.632653</td>\n",
       "      <td>81.262712</td>\n",
       "      <td>80.403642</td>\n",
       "      <td>80.662338</td>\n",
       "    </tr>\n",
       "    <tr>\n",
       "      <th>Griffin High School</th>\n",
       "      <td>83.369193</td>\n",
       "      <td>83.706897</td>\n",
       "      <td>84.288089</td>\n",
       "      <td>84.013699</td>\n",
       "    </tr>\n",
       "    <tr>\n",
       "      <th>Hernandez High School</th>\n",
       "      <td>80.866860</td>\n",
       "      <td>80.660147</td>\n",
       "      <td>81.396140</td>\n",
       "      <td>80.857143</td>\n",
       "    </tr>\n",
       "    <tr>\n",
       "      <th>Holden High School</th>\n",
       "      <td>83.677165</td>\n",
       "      <td>83.324561</td>\n",
       "      <td>83.815534</td>\n",
       "      <td>84.698795</td>\n",
       "    </tr>\n",
       "    <tr>\n",
       "      <th>Huang High School</th>\n",
       "      <td>81.290284</td>\n",
       "      <td>81.512386</td>\n",
       "      <td>81.417476</td>\n",
       "      <td>80.305983</td>\n",
       "    </tr>\n",
       "    <tr>\n",
       "      <th>Johnson High School</th>\n",
       "      <td>81.260714</td>\n",
       "      <td>80.773431</td>\n",
       "      <td>80.616027</td>\n",
       "      <td>81.227564</td>\n",
       "    </tr>\n",
       "    <tr>\n",
       "      <th>Pena High School</th>\n",
       "      <td>83.807273</td>\n",
       "      <td>83.612000</td>\n",
       "      <td>84.335938</td>\n",
       "      <td>84.591160</td>\n",
       "    </tr>\n",
       "    <tr>\n",
       "      <th>Rodriguez High School</th>\n",
       "      <td>80.993127</td>\n",
       "      <td>80.629808</td>\n",
       "      <td>80.864811</td>\n",
       "      <td>80.376426</td>\n",
       "    </tr>\n",
       "    <tr>\n",
       "      <th>Shelton High School</th>\n",
       "      <td>84.122642</td>\n",
       "      <td>83.441964</td>\n",
       "      <td>84.373786</td>\n",
       "      <td>82.781671</td>\n",
       "    </tr>\n",
       "    <tr>\n",
       "      <th>Thomas High School</th>\n",
       "      <td>83.728850</td>\n",
       "      <td>84.254157</td>\n",
       "      <td>83.585542</td>\n",
       "      <td>83.831361</td>\n",
       "    </tr>\n",
       "    <tr>\n",
       "      <th>Wilson High School</th>\n",
       "      <td>83.939778</td>\n",
       "      <td>84.021452</td>\n",
       "      <td>83.764608</td>\n",
       "      <td>84.317673</td>\n",
       "    </tr>\n",
       "    <tr>\n",
       "      <th>Wright High School</th>\n",
       "      <td>83.833333</td>\n",
       "      <td>83.812757</td>\n",
       "      <td>84.156322</td>\n",
       "      <td>84.073171</td>\n",
       "    </tr>\n",
       "  </tbody>\n",
       "</table>\n",
       "</div>"
      ],
      "text/plain": [
       "                       9th Grade  10th Grade  11th Grade  12th Grade\n",
       "school_name                                                         \n",
       "Bailey High School     81.303155   80.907183   80.945643   80.912451\n",
       "Cabrera High School    83.676136   84.253219   83.788382   84.287958\n",
       "Figueroa High School   81.198598   81.408912   80.640339   81.384863\n",
       "Ford High School       80.632653   81.262712   80.403642   80.662338\n",
       "Griffin High School    83.369193   83.706897   84.288089   84.013699\n",
       "Hernandez High School  80.866860   80.660147   81.396140   80.857143\n",
       "Holden High School     83.677165   83.324561   83.815534   84.698795\n",
       "Huang High School      81.290284   81.512386   81.417476   80.305983\n",
       "Johnson High School    81.260714   80.773431   80.616027   81.227564\n",
       "Pena High School       83.807273   83.612000   84.335938   84.591160\n",
       "Rodriguez High School  80.993127   80.629808   80.864811   80.376426\n",
       "Shelton High School    84.122642   83.441964   84.373786   82.781671\n",
       "Thomas High School     83.728850   84.254157   83.585542   83.831361\n",
       "Wilson High School     83.939778   84.021452   83.764608   84.317673\n",
       "Wright High School     83.833333   83.812757   84.156322   84.073171"
      ]
     },
     "execution_count": 267,
     "metadata": {},
     "output_type": "execute_result"
    }
   ],
   "source": [
    "# Calculate the average reading score for 12th grade in each school\n",
    "\n",
    "grade_12 = school_data_complete[school_data_complete['grade'] == '12th']\n",
    "avg_reading_12 = grade_12.groupby('school_name')['reading_score'].mean()\n",
    "\n",
    "# Combine into one DataFrame\n",
    "avg_reading_by_grade = pd.DataFrame({\n",
    "    '9th Grade': avg_reading_9,\n",
    "    '10th Grade': avg_reading_10,\n",
    "    '11th Grade': avg_reading_11,\n",
    "    '12th Grade': avg_reading_12\n",
    "})\n",
    "\n",
    "# Display result\n",
    "avg_reading_by_grade\n",
    "\n"
   ]
  },
  {
   "cell_type": "markdown",
   "metadata": {},
   "source": [
    "## Scores by School Spending"
   ]
  },
  {
   "cell_type": "markdown",
   "metadata": {},
   "source": [
    "* Create a table that breaks down school performances based on average Spending Ranges (Per Student). Use 4 reasonable bins to group school spending. Include in the table each of the following:\n",
    "  * Average Math Score\n",
    "  * Average Reading Score\n",
    "  * % Passing Math\n",
    "  * % Passing Reading\n",
    "  * Overall Passing Rate (Average of the above two)"
   ]
  },
  {
   "cell_type": "code",
   "execution_count": 269,
   "metadata": {},
   "outputs": [],
   "source": [
    "# Sample bins. Feel free to create your own bins.\n",
    "spending_bins = [0, 585, 615, 645, 675]\n",
    "group_names = [\"<$585\", \"$585-615\", \"$616-645\", \"$646-675\"]"
   ]
  },
  {
   "cell_type": "code",
   "execution_count": 271,
   "metadata": {},
   "outputs": [],
   "source": [
    "# Create a new column to show budget per student in each row\n",
    "\n",
    "school_data_complete[\"Per Student Budget\"] = (\n",
    "    school_data_complete[\"budget\"] / school_data_complete[\"size\"]\n",
    ")\n",
    "\n"
   ]
  },
  {
   "cell_type": "code",
   "execution_count": 273,
   "metadata": {},
   "outputs": [],
   "source": [
    "# Create a new column to define the spending ranges per student\n",
    "\n",
    "# Create the spending range column using pd.cut()\n",
    "school_data_complete[\"Spending Ranges (Per Student)\"] = pd.cut(\n",
    "    school_data_complete[\"Per Student Budget\"],\n",
    "    bins=spending_bins,\n",
    "    labels=group_names,\n",
    "    include_lowest=True,\n",
    "    right=False  # left-inclusive, prevents overlap\n",
    ")\n",
    "\n"
   ]
  },
  {
   "cell_type": "code",
   "execution_count": 275,
   "metadata": {},
   "outputs": [
    {
     "name": "stderr",
     "output_type": "stream",
     "text": [
      "C:\\Users\\patron\\AppData\\Local\\Temp\\ipykernel_26776\\789165630.py:3: FutureWarning: The default of observed=False is deprecated and will be changed to True in a future version of pandas. Pass observed=False to retain current behavior or observed=True to adopt the future default and silence this warning.\n",
      "  average_math_by_spending = school_data_complete.groupby(\n"
     ]
    }
   ],
   "source": [
    "# Calculate the average math score within each spending range\n",
    "\n",
    "average_math_by_spending = school_data_complete.groupby(\n",
    "    \"Spending Ranges (Per Student)\"\n",
    ")[\"math_score\"].mean()\n",
    "\n"
   ]
  },
  {
   "cell_type": "code",
   "execution_count": 277,
   "metadata": {},
   "outputs": [
    {
     "name": "stdout",
     "output_type": "stream",
     "text": [
      "Spending Ranges (Per Student)\n",
      "<$585       93.70\n",
      "$585-615    94.12\n",
      "$616-645    71.40\n",
      "$646-675    66.23\n",
      "Name: math_score, dtype: float64\n"
     ]
    },
    {
     "name": "stderr",
     "output_type": "stream",
     "text": [
      "C:\\Users\\patron\\AppData\\Local\\Temp\\ipykernel_26776\\3092641860.py:3: FutureWarning: The default of observed=False is deprecated and will be changed to True in a future version of pandas. Pass observed=False to retain current behavior or observed=True to adopt the future default and silence this warning.\n",
      "  passing_math_by_spending = school_data_complete.groupby(\n"
     ]
    }
   ],
   "source": [
    "# Calculate the percentage passing rate for math in each spending range\n",
    "\n",
    "passing_math_by_spending = school_data_complete.groupby(\n",
    "    \"Spending Ranges (Per Student)\"\n",
    ")[\"math_score\"].apply(lambda x: (x >= 70).mean())\n",
    "print((passing_math_by_spending * 100).round(2))\n",
    "\n",
    "\n"
   ]
  },
  {
   "cell_type": "code",
   "execution_count": 279,
   "metadata": {},
   "outputs": [
    {
     "name": "stdout",
     "output_type": "stream",
     "text": [
      "Spending Ranges (Per Student)\n",
      "<$585       96.69\n",
      "$585-615    95.89\n",
      "$616-645    83.61\n",
      "$646-675    81.11\n",
      "Name: reading_score, dtype: float64\n"
     ]
    },
    {
     "name": "stderr",
     "output_type": "stream",
     "text": [
      "C:\\Users\\patron\\AppData\\Local\\Temp\\ipykernel_26776\\2841302235.py:3: FutureWarning: The default of observed=False is deprecated and will be changed to True in a future version of pandas. Pass observed=False to retain current behavior or observed=True to adopt the future default and silence this warning.\n",
      "  passing_reading_by_spending = school_data_complete.groupby(\n"
     ]
    }
   ],
   "source": [
    "# Calculate the percentage passing rate for reading in each spending range\n",
    "\n",
    "passing_reading_by_spending = school_data_complete.groupby(\n",
    "    \"Spending Ranges (Per Student)\"\n",
    ")[\"reading_score\"].apply(lambda x: (x >= 70).mean())\n",
    "print((passing_reading_by_spending * 100).round(2))\n",
    "\n"
   ]
  },
  {
   "cell_type": "code",
   "execution_count": 281,
   "metadata": {},
   "outputs": [
    {
     "name": "stdout",
     "output_type": "stream",
     "text": [
      "Spending Ranges (Per Student)\n",
      "<$585       95.19\n",
      "$585-615    95.01\n",
      "$616-645    77.51\n",
      "$646-675    73.67\n",
      "dtype: float64\n"
     ]
    },
    {
     "name": "stderr",
     "output_type": "stream",
     "text": [
      "C:\\Users\\patron\\AppData\\Local\\Temp\\ipykernel_26776\\2165097707.py:4: FutureWarning: The default of observed=False is deprecated and will be changed to True in a future version of pandas. Pass observed=False to retain current behavior or observed=True to adopt the future default and silence this warning.\n",
      "  passing_math = school_data_complete.groupby(\"Spending Ranges (Per Student)\")[\"math_score\"].apply(lambda x: (x >= 70).mean())\n",
      "C:\\Users\\patron\\AppData\\Local\\Temp\\ipykernel_26776\\2165097707.py:5: FutureWarning: The default of observed=False is deprecated and will be changed to True in a future version of pandas. Pass observed=False to retain current behavior or observed=True to adopt the future default and silence this warning.\n",
      "  passing_reading = school_data_complete.groupby(\"Spending Ranges (Per Student)\")[\"reading_score\"].apply(lambda x: (x >= 70).mean())\n"
     ]
    }
   ],
   "source": [
    "# Calculate the percentage overall passing rate in each spending range\n",
    "\n",
    "# Calculate passing rates\n",
    "passing_math = school_data_complete.groupby(\"Spending Ranges (Per Student)\")[\"math_score\"].apply(lambda x: (x >= 70).mean())\n",
    "passing_reading = school_data_complete.groupby(\"Spending Ranges (Per Student)\")[\"reading_score\"].apply(lambda x: (x >= 70).mean())\n",
    "\n",
    "# Calculate overall passing rate as the average of the two\n",
    "overall_passing_rate = (passing_math + passing_reading) / 2\n",
    "\n",
    "# Display as percentage\n",
    "print((overall_passing_rate * 100).round(2))\n",
    "\n"
   ]
  },
  {
   "cell_type": "markdown",
   "metadata": {},
   "source": [
    "### Scores by School Size"
   ]
  },
  {
   "cell_type": "markdown",
   "metadata": {},
   "source": [
    "* Perform the same operations as above, based on school size."
   ]
  },
  {
   "cell_type": "code",
   "execution_count": 283,
   "metadata": {},
   "outputs": [],
   "source": [
    "# Sample bins. Feel free to create your own bins.\n",
    "size_bins = [0, 1000, 2000, 5000]\n",
    "group_names = [\"Small (<1000)\", \"Medium (1000-2000)\", \"Large (2000-5000)\"]"
   ]
  },
  {
   "cell_type": "code",
   "execution_count": 285,
   "metadata": {
    "scrolled": true
   },
   "outputs": [],
   "source": [
    "# Create a new column for the bin groups\n",
    "\n",
    "school_data_complete[\"School Size\"] = pd.cut(\n",
    "    school_data_complete[\"size\"],\n",
    "    bins=size_bins,\n",
    "    labels=group_names,\n",
    "    include_lowest=True,\n",
    "    right=False \n",
    ")"
   ]
  },
  {
   "cell_type": "markdown",
   "metadata": {},
   "source": [
    "Look for the total count of test scores that pass 70% or higher\n",
    "\n",
    "\n"
   ]
  },
  {
   "cell_type": "code",
   "execution_count": 288,
   "metadata": {},
   "outputs": [
    {
     "name": "stdout",
     "output_type": "stream",
     "text": [
      "School Size\n",
      "Small (<1000)          1305\n",
      "Medium (1000-2000)     7978\n",
      "Large (2000-5000)     20087\n",
      "Name: math_score, dtype: int64\n"
     ]
    },
    {
     "name": "stderr",
     "output_type": "stream",
     "text": [
      "C:\\Users\\patron\\AppData\\Local\\Temp\\ipykernel_26776\\2536240649.py:4: FutureWarning: The default of observed=False is deprecated and will be changed to True in a future version of pandas. Pass observed=False to retain current behavior or observed=True to adopt the future default and silence this warning.\n",
      "  math_pass_size = school_data_complete[school_data_complete[\"math_score\"] >= 70].groupby(\"School Size\")[\"math_score\"].count()\n"
     ]
    }
   ],
   "source": [
    "# math_pass_size\n",
    "\n",
    "# Count of students with math scores >= 70 in each school size group\n",
    "math_pass_size = school_data_complete[school_data_complete[\"math_score\"] >= 70].groupby(\"School Size\")[\"math_score\"].count()\n",
    "\n",
    "print(math_pass_size)\n"
   ]
  },
  {
   "cell_type": "code",
   "execution_count": 290,
   "metadata": {},
   "outputs": [
    {
     "name": "stdout",
     "output_type": "stream",
     "text": [
      "School Size\n",
      "Small (<1000)          1334\n",
      "Medium (1000-2000)     8247\n",
      "Large (2000-5000)     24029\n",
      "Name: reading_score, dtype: int64\n"
     ]
    },
    {
     "name": "stderr",
     "output_type": "stream",
     "text": [
      "C:\\Users\\patron\\AppData\\Local\\Temp\\ipykernel_26776\\2581597528.py:4: FutureWarning: The default of observed=False is deprecated and will be changed to True in a future version of pandas. Pass observed=False to retain current behavior or observed=True to adopt the future default and silence this warning.\n",
      "  read_pass_size = school_data_complete[school_data_complete[\"reading_score\"] >= 70].groupby(\"School Size\")[\"reading_score\"].count()\n"
     ]
    }
   ],
   "source": [
    "# read_pass_size\n",
    "\n",
    "# Count of students with reading scores >= 70 in each school size group\n",
    "read_pass_size = school_data_complete[school_data_complete[\"reading_score\"] >= 70].groupby(\"School Size\")[\"reading_score\"].count()\n",
    "\n",
    "print(read_pass_size)\n",
    "\n"
   ]
  },
  {
   "cell_type": "code",
   "execution_count": 292,
   "metadata": {},
   "outputs": [
    {
     "name": "stdout",
     "output_type": "stream",
     "text": [
      "School Size\n",
      "Small (<1000)         90.14\n",
      "Medium (1000-2000)    90.62\n",
      "Large (2000-5000)     56.57\n",
      "Name: overall_pass, dtype: float64\n"
     ]
    },
    {
     "name": "stderr",
     "output_type": "stream",
     "text": [
      "C:\\Users\\patron\\AppData\\Local\\Temp\\ipykernel_26776\\3093511922.py:10: FutureWarning: The default of observed=False is deprecated and will be changed to True in a future version of pandas. Pass observed=False to retain current behavior or observed=True to adopt the future default and silence this warning.\n",
      "  overall_passing_rate_by_size = school_data_complete.groupby(\"School Size\")[\"overall_pass\"].mean()\n"
     ]
    }
   ],
   "source": [
    "# Calculate the overall passing rate for different school size\n",
    "\n",
    "# Create a column indicating whether a student passed both math and reading\n",
    "school_data_complete[\"overall_pass\"] = (\n",
    "    (school_data_complete[\"math_score\"] >= 70) & \n",
    "    (school_data_complete[\"reading_score\"] >= 70)\n",
    ")\n",
    "\n",
    "# Group by school size and calculate the overall passing rate\n",
    "overall_passing_rate_by_size = school_data_complete.groupby(\"School Size\")[\"overall_pass\"].mean()\n",
    "\n",
    "# Optional: Display as percentages\n",
    "print((overall_passing_rate_by_size * 100).round(2))\n",
    "\n"
   ]
  },
  {
   "cell_type": "markdown",
   "metadata": {},
   "source": [
    "### Scores by School Type"
   ]
  },
  {
   "cell_type": "markdown",
   "metadata": {},
   "source": [
    "* Perform the same operations as above, based on school type."
   ]
  },
  {
   "cell_type": "code",
   "execution_count": 294,
   "metadata": {},
   "outputs": [],
   "source": [
    "# Create bins and groups, school type {'Charter', 'District'}\n",
    "\n",
    "group_names = [\"Charter\", \"District\"]\n",
    "\n"
   ]
  },
  {
   "cell_type": "markdown",
   "metadata": {},
   "source": [
    "Find counts of the passing 70 or higher score for the both test\n"
   ]
  },
  {
   "cell_type": "code",
   "execution_count": 297,
   "metadata": {},
   "outputs": [
    {
     "name": "stdout",
     "output_type": "stream",
     "text": [
      "type\n",
      "Charter     11426\n",
      "District    17944\n",
      "Name: math_score, dtype: int64\n"
     ]
    }
   ],
   "source": [
    "# math pass size\n",
    "\n",
    "# Count of students with math scores >= 70, grouped by school type\n",
    "math_pass_type = school_data_complete[school_data_complete[\"math_score\"] >= 70].groupby(\"type\")[\"math_score\"].count()\n",
    "\n",
    "print(math_pass_type)\n",
    "\n"
   ]
  },
  {
   "cell_type": "code",
   "execution_count": 299,
   "metadata": {},
   "outputs": [
    {
     "name": "stdout",
     "output_type": "stream",
     "text": [
      "type\n",
      "Charter     11785\n",
      "District    21825\n",
      "Name: reading_score, dtype: int64\n"
     ]
    }
   ],
   "source": [
    "# reading pass size\n",
    "\n",
    "# Count of students with reading scores >= 70, grouped by school type\n",
    "read_pass_type = school_data_complete[school_data_complete[\"reading_score\"] >= 70].groupby(\"type\")[\"reading_score\"].count()\n",
    "\n",
    "print(read_pass_type)\n"
   ]
  },
  {
   "cell_type": "code",
   "execution_count": 301,
   "metadata": {},
   "outputs": [
    {
     "name": "stdout",
     "output_type": "stream",
     "text": [
      "type\n",
      "Charter     90.56\n",
      "District    53.70\n",
      "Name: overall_pass, dtype: float64\n"
     ]
    }
   ],
   "source": [
    "# Calculate the overall passing rate\n",
    "\n",
    "# Create a column for students who passed both math and reading\n",
    "school_data_complete[\"overall_pass\"] = (\n",
    "    (school_data_complete[\"math_score\"] >= 70) &\n",
    "    (school_data_complete[\"reading_score\"] >= 70)\n",
    ")\n",
    "\n",
    "# Calculate the overall passing rate by school type\n",
    "overall_passing_rate_by_type = school_data_complete.groupby(\"type\")[\"overall_pass\"].mean()\n",
    "\n",
    "# Optional: Format as percentages\n",
    "print((overall_passing_rate_by_type * 100).round(2))\n"
   ]
  },
  {
   "cell_type": "code",
   "execution_count": null,
   "metadata": {},
   "outputs": [],
   "source": []
  }
 ],
 "metadata": {
  "anaconda-cloud": {},
  "kernel_info": {
   "name": "python3"
  },
  "kernelspec": {
   "display_name": "Python [conda env:base] *",
   "language": "python",
   "name": "conda-base-py"
  },
  "language_info": {
   "codemirror_mode": {
    "name": "ipython",
    "version": 3
   },
   "file_extension": ".py",
   "mimetype": "text/x-python",
   "name": "python",
   "nbconvert_exporter": "python",
   "pygments_lexer": "ipython3",
   "version": "3.12.7"
  },
  "latex_envs": {
   "LaTeX_envs_menu_present": true,
   "autoclose": false,
   "autocomplete": true,
   "bibliofile": "biblio.bib",
   "cite_by": "apalike",
   "current_citInitial": 1,
   "eqLabelWithNumbers": true,
   "eqNumInitial": 1,
   "hotkeys": {
    "equation": "Ctrl-E",
    "itemize": "Ctrl-I"
   },
   "labels_anchors": false,
   "latex_user_defs": false,
   "report_style_numbering": false,
   "user_envs_cfg": false
  },
  "nteract": {
   "version": "0.8.4"
  },
  "toc": {
   "base_numbering": 1,
   "nav_menu": {},
   "number_sections": true,
   "sideBar": true,
   "skip_h1_title": false,
   "title_cell": "Table of Contents",
   "title_sidebar": "Contents",
   "toc_cell": false,
   "toc_position": {},
   "toc_section_display": true,
   "toc_window_display": false
  }
 },
 "nbformat": 4,
 "nbformat_minor": 4
}
